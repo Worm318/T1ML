{
 "cells": [
  {
   "cell_type": "markdown",
   "metadata": {
    "nbpresent": {
     "id": "3b0c012d-51d7-4e31-9b9a-ce03c86e6d0b"
    },
    "slideshow": {
     "slide_type": "slide"
    }
   },
   "source": [
    "# Regresión Lineal Ordinaria"
   ]
  },
  {
   "cell_type": "markdown",
   "metadata": {
    "nbpresent": {
     "id": "73e83cf5-1112-4b16-82da-e4c1d5d8296d"
    },
    "slideshow": {
     "slide_type": "-"
    }
   },
   "source": [
    "Se construye el dataframe desde el dataset. Para ello se usaran dos estructuras, una que contendra los ejemplos y otra que indicara si es que el ejemplo pertenece al conjunto de entrenamiento o de pruebas.\n",
    "\n",
    "La línea 5 elimina del dataset una columna que indicaba el número de ejemplo que es irrelevante y la línea 9 elimina la columna si indica si el dato es de entrenamiento, luego de haberla guardado en otra estructura y no corresponde a un dato para el modelo de predicción."
   ]
  },
  {
   "cell_type": "code",
   "execution_count": 4,
   "metadata": {
    "collapsed": false,
    "nbpresent": {
     "id": "e5ed19c6-65c7-41a1-86d5-829ec0e0391b"
    },
    "slideshow": {
     "slide_type": "subslide"
    }
   },
   "outputs": [],
   "source": [
    "import pandas as pd\n",
    "import numpy as np\n",
    "url = 'http://statweb.stanford.edu/~tibs/ElemStatLearn/datasets/prostate.data'\n",
    "df = pd.read_csv(url, sep='\\t', header=0)\n",
    "df = df.drop('Unnamed: 0', axis=1)\n",
    "istrain_str = df['train']\n",
    "istrain = np.asarray([True if s == 'T' else False for s in istrain_str])\n",
    "istest = np.logical_not(istrain)\n",
    "df = df.drop('train', axis=1)"
   ]
  },
  {
   "cell_type": "markdown",
   "metadata": {
    "nbpresent": {
     "id": "f93c5310-4e0c-46e8-9161-d8eaa3d97902"
    },
    "slideshow": {
     "slide_type": "slide"
    }
   },
   "source": [
    "El dataset a utilizar corresponde a un estudio publicado por Tom Stamey en 1989, profesor de Urología de la Universidad de Stanford sobre la correlación entre el nivel de antígeno prostático específico (**lpsa** en el dataset) y una serie de otras mediciones obtenidas.\n",
    "\n",
    "Las variables son logaritmo del volumen de cancer (lcavol), logaritmo del peso prostatico (lweight), edad, logaritmo de la cantidad prostatica de hyperplasia beninga (lbph), invasion de la vesicula seminal (svi), logaritmo de la penetración capsular (lcp), puntaje Gleason (gleason) y porcentaje de los puntajes 4 y 5 Gleason (pgg45).\n",
    "\n",
    "El dataset es de dimensiones $97 \\times 9$ representando 97 ejemplos, 8 predictores y el output. Aunque la mayoría corresponden a floats e int, svi corresponde a una variable binaria con la mayoría de los ejemplos en cero."
   ]
  },
  {
   "cell_type": "code",
   "execution_count": 15,
   "metadata": {
    "collapsed": false,
    "nbpresent": {
     "id": "52cc5833-f27b-439a-81df-818607db5578"
    },
    "slideshow": {
     "slide_type": "skip"
    }
   },
   "outputs": [
    {
     "name": "stdout",
     "output_type": "stream",
     "text": [
      "Dimensiones\n",
      "(97, 9)\n",
      "\n",
      "Información\n",
      "<class 'pandas.core.frame.DataFrame'>\n",
      "RangeIndex: 97 entries, 0 to 96\n",
      "Data columns (total 9 columns):\n",
      "lcavol     97 non-null float64\n",
      "lweight    97 non-null float64\n",
      "age        97 non-null int64\n",
      "lbph       97 non-null float64\n",
      "svi        97 non-null int64\n",
      "lcp        97 non-null float64\n",
      "gleason    97 non-null int64\n",
      "pgg45      97 non-null int64\n",
      "lpsa       97 non-null float64\n",
      "dtypes: float64(5), int64(4)\n",
      "memory usage: 6.9 KB\n",
      "None\n",
      "\n",
      "Descripción\n",
      "          lcavol    lweight        age       lbph        svi        lcp  \\\n",
      "count  97.000000  97.000000  97.000000  97.000000  97.000000  97.000000   \n",
      "mean    1.350010   3.628943  63.865979   0.100356   0.216495  -0.179366   \n",
      "std     1.178625   0.428411   7.445117   1.450807   0.413995   1.398250   \n",
      "min    -1.347074   2.374906  41.000000  -1.386294   0.000000  -1.386294   \n",
      "25%     0.512824   3.375880  60.000000  -1.386294   0.000000  -1.386294   \n",
      "50%     1.446919   3.623007  65.000000   0.300105   0.000000  -0.798508   \n",
      "75%     2.127041   3.876396  68.000000   1.558145   0.000000   1.178655   \n",
      "max     3.821004   4.780383  79.000000   2.326302   1.000000   2.904165   \n",
      "\n",
      "         gleason       pgg45       lpsa  \n",
      "count  97.000000   97.000000  97.000000  \n",
      "mean    6.752577   24.381443   2.478387  \n",
      "std     0.722134   28.204035   1.154329  \n",
      "min     6.000000    0.000000  -0.430783  \n",
      "25%     6.000000    0.000000   1.731656  \n",
      "50%     7.000000   15.000000   2.591516  \n",
      "75%     7.000000   40.000000   3.056357  \n",
      "max     9.000000  100.000000   5.582932  \n"
     ]
    }
   ],
   "source": [
    "print \"Dimensiones\"\n",
    "print df.shape\n",
    "print \"\\nInformación\"\n",
    "print df.info()\n",
    "print \"\\nDescripción\"\n",
    "print df.describe()"
   ]
  },
  {
   "cell_type": "markdown",
   "metadata": {
    "nbpresent": {
     "id": "7ad30c45-5b0e-4435-8dfa-f2a0586e1bb8"
    },
    "slideshow": {
     "slide_type": "slide"
    }
   },
   "source": [
    "Antes de comenzar a trabajar es necesario la normalización de los datos. Su importancia radica en el hecho de que los diferentes predictores se encuentran en distintas escalas (algunos entre 41 y 79, y otros entre 0 y 1 por ejemplo) por lo que podrían terminar afectando más en el modelo que otros."
   ]
  },
  {
   "cell_type": "code",
   "execution_count": 16,
   "metadata": {
    "collapsed": false,
    "nbpresent": {
     "id": "2196c583-744e-4672-93be-0d930eeb0642"
    },
    "scrolled": true,
    "slideshow": {
     "slide_type": "subslide"
    }
   },
   "outputs": [],
   "source": [
    "from sklearn.preprocessing import StandardScaler\n",
    "scaler = StandardScaler()\n",
    "df_scaled = pd.DataFrame(scaler.fit_transform(df), columns=df.columns)\n",
    "df_scaled['lpsa'] = df['lpsa']"
   ]
  },
  {
   "cell_type": "markdown",
   "metadata": {
    "nbpresent": {
     "id": "6f8f4d75-1d2c-4685-92eb-c078f05788ab"
    }
   },
   "source": [
    "Se puede obtener la regresión lineal haciendo uso del modulo `linear_model` de sklearn. \n",
    "\n",
    "En la línea 4 se inserta una columna extra llamada `intercept` solo con unos que representa el valor de la salida cuando X = 0 para así centrar los datos y el argumento `fit_intercept=False` en la creación de `LinearRegression` es para que no centre los datos. La idea es forzar el modelo para que se comporte como una distribución normal estándar con media igual a 1 centrada en X = 0."
   ]
  },
  {
   "cell_type": "code",
   "execution_count": 17,
   "metadata": {
    "collapsed": false
   },
   "outputs": [
    {
     "data": {
      "text/plain": [
       "LinearRegression(copy_X=True, fit_intercept=False, n_jobs=1, normalize=False)"
      ]
     },
     "execution_count": 17,
     "metadata": {},
     "output_type": "execute_result"
    }
   ],
   "source": [
    "import sklearn.linear_model as lm\n",
    "X = df_scaled.ix[:,:-1]\n",
    "N = X.shape[0]\n",
    "X.insert(X.shape[1], 'intercept', np.ones(N))\n",
    "\n",
    "y = df_scaled['lpsa']\n",
    "Xtrain = X[istrain]\n",
    "ytrain = y[istrain]\n",
    "Xtest = X[np.logical_not(istrain)]\n",
    "ytest = y[np.logical_not(istrain)]\n",
    "\n",
    "linreg = lm.LinearRegression(fit_intercept = False)\n",
    "linreg.fit(Xtrain, ytrain)"
   ]
  },
  {
   "cell_type": "markdown",
   "metadata": {},
   "source": [
    "Los coeficientes y z-scores asociados a cada predictor pueden apreciarse en la siguiente tabla. Aquellos con valores en negrita corresponden a los coeficientes con suficiente evidencia para demostrar su relación con la respuesta con un nivel de significación de un 5%. \n",
    "\n",
    "|            | lcavol | lweight | age    | lbph  | svi   | lcp    | gleason | pgg45 | intercept |\n",
    "|------------|--------|---------|--------|-------|-------|--------|---------|-------|-----------|\n",
    "|Coeficientes| **0.676**  | **0.262**   | -0.141 | **0.209** | **0.304** | -0.287 | -0.021  | **0.266** | **2.465**     |\n",
    "|Z-score     | **5.366**  | **2.751**   | -1.396 | **2.056** | **2.469** | -1.867 | -0.147  | **1.738** | **27.598**|"
   ]
  },
  {
   "cell_type": "markdown",
   "metadata": {},
   "source": [
    "Los coeficientes pueden obtenerse con facilidad"
   ]
  },
  {
   "cell_type": "code",
   "execution_count": 37,
   "metadata": {
    "collapsed": false
   },
   "outputs": [
    {
     "data": {
      "text/plain": [
       "array([ 0.676,  0.262, -0.141,  0.209,  0.304, -0.287, -0.021,  0.266,\n",
       "        2.465])"
      ]
     },
     "execution_count": 37,
     "metadata": {},
     "output_type": "execute_result"
    }
   ],
   "source": [
    "np.round(linreg.coef_,3)"
   ]
  },
  {
   "cell_type": "markdown",
   "metadata": {},
   "source": [
    "Con $X$ siendo la matriz de entrada de dimensiones $N \\times (p+1)$ , $y$ siendo el vector de salida y $\\hat{y}$ el vector de salida estimado por el modelo. El z-score $z_j$ de cada predictor $j$ se puede obtener con la siguiente formula\n",
    "\n",
    "$$ z_j = \\frac{\\hat{\\beta_j}}{\\hat{\\sigma}\\sqrt{v_j}} $$\n",
    "\n",
    "Donde $\\hat{\\beta_j}$ es el coeficiente asociado al predictor $j$ en el modelo, $\\hat{\\sigma}$ una estimación la desviación estandar del modelo estimado y $v_j$ un elemento de la matriz $({X^T}*X)^{-1}$ usada para construir el modelo lineal, $X$ la matriz de entrada.\n",
    "\n",
    "El valor de $\\hat{\\sigma}$ es estimado de acuerdo a:\n",
    "\n",
    "$$ \\hat{\\sigma}^2 = \\frac{1}{N-p-1}\\sum_{i=1}^{N}{(y_i - \\hat{y}_i)^2} $$\n"
   ]
  },
  {
   "cell_type": "code",
   "execution_count": 46,
   "metadata": {
    "collapsed": false
   },
   "outputs": [
    {
     "name": "stdout",
     "output_type": "stream",
     "text": [
      "[  5.366   2.751  -1.396   2.056   2.469  -1.867  -0.147   1.738  27.598]\n"
     ]
    }
   ],
   "source": [
    "yf = ytrain.as_matrix()\n",
    "XF = Xtrain.as_matrix() \n",
    "XTXi = np.matrix(np.dot(np.transpose(XF),XF)).getI() #(XTX)-1\n",
    "\n",
    "N = XF.shape[0]\n",
    "p = XF.shape[1] - 1\n",
    "std = ytrain - linreg.predict(Xtrain)\n",
    "std = np.sqrt( (1./(N-p-1)) * np.sum(np.square(std)))\n",
    "\n",
    "zscore = coef / (np.sqrt(np.diag(XTXi)))\n",
    "zscore = zscore / std\n",
    "\n",
    "print np.round(zscore,3)"
   ]
  },
  {
   "cell_type": "markdown",
   "metadata": {},
   "source": [
    "Al usar un nivel de significanción de un 5% no todos los coeficientes tienen suficiente evidencia como para permanecer en el modelo."
   ]
  },
  {
   "cell_type": "code",
   "execution_count": 50,
   "metadata": {
    "collapsed": false
   },
   "outputs": [
    {
     "name": "stdout",
     "output_type": "stream",
     "text": [
      "[  5.366   2.751   2.056   2.469  27.598]\n"
     ]
    }
   ],
   "source": [
    "s = np.random.normal(size=100000)\n",
    "zsig = np.percentile(s,97.5)\n",
    "print np.round(zscore[ zscore > zsig ],3)"
   ]
  },
  {
   "cell_type": "markdown",
   "metadata": {},
   "source": [
    "Haciendo uso de validación cruzada k-fold se puede obtener un modelo que debería evitar el sobre-ajuste al conjunto de entrenamiento. En la tabla se puede observar el error cuadrado medio promedio y el mínimo obtenido en cada fold al aplicar validación cruzada comparados con el error cuadrado medio de la regresión lineal.\n",
    "\n",
    "Se puede ver que en promedio k-fold obtiene un error cuadrado medio mejor en el conjunto de entrenamiento\n",
    "\n",
    "|                     | 10-Fold CV | 5-Fold CV | Linear Regression |\n",
    "|---------------------|------------|-----------|-------------------|\n",
    "| MSE promedio (val)  | 0.757      | 0.957     |                   |\n",
    "| MSE promedio (test) | 0.538      | 0.588     |                   |\n",
    "| MSE minimo (val)    | 0.136      | 0.414     |                   |\n",
    "| MSE minimo (test)   | 0.508      | 0.505     |                   |\n",
    "| MSE                 |            |           | 0.66              |"
   ]
  },
  {
   "cell_type": "code",
   "execution_count": 65,
   "metadata": {
    "collapsed": false
   },
   "outputs": [
    {
     "name": "stdout",
     "output_type": "stream",
     "text": [
      "Error 10-fold cross-validation\n",
      "Mean fold MSE(val): 0.757237 3\n",
      "Mean fold MSE(test): 0.537945\n",
      "Min MSE(val): 0.136185\n",
      "Min MSE(test): 0.507529\n"
     ]
    }
   ],
   "source": [
    "from sklearn import cross_validation\n",
    "Xm = Xtrain.as_matrix()\n",
    "ym = ytrain.as_matrix()\n",
    "k_fold = cross_validation.KFold(len(Xm),10)\n",
    "mse_cv = 0\n",
    "mse_cv_train = 0\n",
    "min_mse = float(\"Inf\")\n",
    "min_mse_test = float(\"Inf\")\n",
    "for k, (train, val) in enumerate(k_fold):\n",
    "\tlinreg = lm.LinearRegression(fit_intercept = False)\n",
    "\tlinreg.fit(Xm[train], ym[train])\n",
    "\tyhat_val = linreg.predict(Xm[val])\n",
    "\tmse_fold = np.mean(np.power(yhat_val - ym[val], 2))\n",
    "\tmse_cv += mse_fold\n",
    "\tif min_mse >= mse_fold : min_mse = mse_fold\n",
    "\tmse_cv_train += np.mean(np.power(linreg.predict(Xtest) - ytest,2))\n",
    "\tif min_mse_test >= np.mean(np.power(linreg.predict(Xtest) - ytest,2)) : min_mse_test = np.mean(np.power(linreg.predict(Xtest) - ytest,2))\n",
    "mse_cv = mse_cv / 10\n",
    "mse_cv_train = mse_cv_train / 10\n",
    "\n",
    "print \"Error 10-fold cross-validation\"\n",
    "print \"Mean fold MSE(val): %f\"%mse_cv,3\n",
    "print \"Mean fold MSE(test): %f\"%mse_cv_train\n",
    "print \"Min MSE(val): %f\"%min_mse\n",
    "print \"Min MSE(test): %f\"%min_mse_test"
   ]
  },
  {
   "cell_type": "code",
   "execution_count": 63,
   "metadata": {
    "collapsed": false
   },
   "outputs": [
    {
     "name": "stdout",
     "output_type": "stream",
     "text": [
      "Error 5-fold cross-validation\n",
      "Mean fold MSE(val): 0.956515\n",
      "Mean fold MSE(test): 0.588483\n",
      "Min MSE(val): 0.414067\n",
      "Min MSE(test): 0.505166\n"
     ]
    }
   ],
   "source": [
    "k_fold = cross_validation.KFold(len(Xm),5)\n",
    "mse_cv = 0\n",
    "mse_cv_train = 0\n",
    "min_mse = float(\"Inf\")\n",
    "min_mse_test = float(\"Inf\")\n",
    "for k, (train, val) in enumerate(k_fold):\n",
    "\tlinreg = lm.LinearRegression(fit_intercept = False)\n",
    "\tlinreg.fit(Xm[train], ym[train])\n",
    "\tyhat_val = linreg.predict(Xm[val])\n",
    "\tmse_fold = np.mean(np.power(yhat_val - ym[val], 2))\n",
    "\tmse_cv += mse_fold\n",
    "\tif min_mse >= mse_fold : min_mse = mse_fold\n",
    "\tmse_cv_train += np.mean(np.power(linreg.predict(Xtest) - ytest,2))\n",
    "\tif min_mse_test >= np.mean(np.power(linreg.predict(Xtest) - ytest,2)) : min_mse_test = np.mean(np.power(linreg.predict(Xtest) - ytest,2))\n",
    "mse_cv = mse_cv / 5\n",
    "mse_cv_train = mse_cv_train / 5\n",
    "\n",
    "print \"Error 5-fold cross-validation\"\n",
    "print \"Mean fold MSE(val): %f\"%mse_cv\n",
    "print \"Mean fold MSE(test): %f\"%mse_cv_train\n",
    "print \"Min MSE(val): %f\"%min_mse\n",
    "print \"Min MSE(test): %f\"%min_mse_test"
   ]
  },
  {
   "cell_type": "code",
   "execution_count": 62,
   "metadata": {
    "collapsed": false
   },
   "outputs": [
    {
     "name": "stdout",
     "output_type": "stream",
     "text": [
      "Error full linear regresion\n",
      "0.660025930926 3\n"
     ]
    }
   ],
   "source": [
    "mse_test = np.mean(np.power(linreg.predict(Xtest) - ytest, 2))\n",
    "print \"Error full linear regresion\"\n",
    "print mse_test,3"
   ]
  },
  {
   "cell_type": "markdown",
   "metadata": {},
   "source": [
    "Al observar una Q-Q plot de los residuos se puede observar que los residuos estan aproximadamente sobre la línea por lo que es razonable la hipotesis de normalidad."
   ]
  },
  {
   "cell_type": "code",
   "execution_count": 67,
   "metadata": {
    "collapsed": false
   },
   "outputs": [
    {
     "data": {
      "image/png": "[encoded data removed]",
      "text/plain": [
       "<matplotlib.figure.Figure at 0x7fb9111d16d0>"
      ]
     },
     "metadata": {},
     "output_type": "display_data"
    }
   ],
   "source": [
    "%matplotlib inline\n",
    "import statsmodels.api as sm\n",
    "from matplotlib import pyplot as plt\n",
    "\n",
    "residuals = linreg.predict(Xtrain) - ytrain\n",
    "\n",
    "fig = sm.qqplot(residuals,fit=True,line='45')\n",
    "plt.show()"
   ]
  }
 ],
 "metadata": {
  "celltoolbar": "Slideshow",
  "kernelspec": {
   "display_name": "Python [Root]",
   "language": "python",
   "name": "Python [Root]"
  },
  "language_info": {
   "codemirror_mode": {
    "name": "ipython",
    "version": 2
   },
   "file_extension": ".py",
   "mimetype": "text/x-python",
   "name": "python",
   "nbconvert_exporter": "python",
   "pygments_lexer": "ipython2",
   "version": "2.7.12"
  },
  "nbpresent": {
   "slides": {
    "057b9fda-d576-40b8-8bfb-9fc315156835": {
     "id": "057b9fda-d576-40b8-8bfb-9fc315156835",
     "prev": "3785161e-cf29-4ee3-b67f-12f6d129d481",
     "regions": {
      "eeec85c7-cc8b-4c1c-9d40-468c307e4795": {
       "attrs": {
        "height": 0.8,
        "width": 0.8,
        "x": 0.1,
        "y": 0.1
       },
       "content": {
        "cell": "7ad30c45-5b0e-4435-8dfa-f2a0586e1bb8",
        "part": "whole"
       },
       "id": "eeec85c7-cc8b-4c1c-9d40-468c307e4795"
      }
     }
    },
    "3785161e-cf29-4ee3-b67f-12f6d129d481": {
     "id": "3785161e-cf29-4ee3-b67f-12f6d129d481",
     "prev": "85329dcf-d4ff-4ba2-a432-b13c8ed19580",
     "regions": {
      "baa686fc-7521-442f-94c4-2760ad59e698": {
       "attrs": {
        "height": 0.8,
        "width": 0.8,
        "x": 0.1,
        "y": 0.1
       },
       "content": {
        "cell": "52cc5833-f27b-439a-81df-818607db5578",
        "part": "whole"
       },
       "id": "baa686fc-7521-442f-94c4-2760ad59e698"
      }
     }
    },
    "6705ce00-2412-4c06-8da8-544775829fd6": {
     "id": "6705ce00-2412-4c06-8da8-544775829fd6",
     "prev": "057b9fda-d576-40b8-8bfb-9fc315156835",
     "regions": {
      "4394218e-c03b-403e-9aa9-e11a2bca2537": {
       "attrs": {
        "height": 0.4,
        "width": 0.8,
        "x": 0.1,
        "y": 0.5
       },
       "content": {
        "cell": "6f8f4d75-1d2c-4685-92eb-c078f05788ab",
        "part": "whole"
       },
       "id": "4394218e-c03b-403e-9aa9-e11a2bca2537"
      },
      "ae0209cd-7805-464a-9a99-768684d600b5": {
       "attrs": {
        "height": 0.8,
        "width": 0.8,
        "x": 0.1,
        "y": 0.1
       },
       "content": {
        "cell": "2196c583-744e-4672-93be-0d930eeb0642",
        "part": "whole"
       },
       "id": "ae0209cd-7805-464a-9a99-768684d600b5"
      }
     }
    },
    "85329dcf-d4ff-4ba2-a432-b13c8ed19580": {
     "id": "85329dcf-d4ff-4ba2-a432-b13c8ed19580",
     "prev": "b00664cf-4a0a-48f7-b866-2515cb28ea13",
     "regions": {
      "c1e6baeb-7bf5-4f65-9ed3-d9fb7d5be568": {
       "attrs": {
        "height": 0.8,
        "width": 0.8,
        "x": 0.1,
        "y": 0.1
       },
       "content": {
        "cell": "f93c5310-4e0c-46e8-9161-d8eaa3d97902",
        "part": "whole"
       },
       "id": "c1e6baeb-7bf5-4f65-9ed3-d9fb7d5be568"
      }
     }
    },
    "b00664cf-4a0a-48f7-b866-2515cb28ea13": {
     "id": "b00664cf-4a0a-48f7-b866-2515cb28ea13",
     "prev": "cd7cc886-7cb2-49d8-8317-2dd9e15745bc",
     "regions": {
      "2db51c7f-bd65-4f40-b9c1-190b36a596b9": {
       "attrs": {
        "height": 0.8,
        "width": 0.8,
        "x": 0.1,
        "y": 0.1
       },
       "content": {
        "cell": "e5ed19c6-65c7-41a1-86d5-829ec0e0391b",
        "part": "whole"
       },
       "id": "2db51c7f-bd65-4f40-b9c1-190b36a596b9"
      }
     }
    },
    "cd7cc886-7cb2-49d8-8317-2dd9e15745bc": {
     "id": "cd7cc886-7cb2-49d8-8317-2dd9e15745bc",
     "prev": "df02b4cd-a514-4c55-91d5-9fa0cd6b3107",
     "regions": {
      "3b07d45d-c030-4026-a527-736cd9c57bd3": {
       "attrs": {
        "height": 0.8,
        "width": 0.8,
        "x": 0.1,
        "y": 0.1
       },
       "content": {
        "cell": "73e83cf5-1112-4b16-82da-e4c1d5d8296d",
        "part": "whole"
       },
       "id": "3b07d45d-c030-4026-a527-736cd9c57bd3"
      }
     }
    },
    "df02b4cd-a514-4c55-91d5-9fa0cd6b3107": {
     "id": "df02b4cd-a514-4c55-91d5-9fa0cd6b3107",
     "prev": null,
     "regions": {
      "af962238-086f-48b9-a358-491e67f383f0": {
       "attrs": {
        "height": 0.8,
        "width": 0.8,
        "x": 0.1,
        "y": 0.1
       },
       "content": {
        "cell": "3b0c012d-51d7-4e31-9b9a-ce03c86e6d0b",
        "part": "whole"
       },
       "id": "af962238-086f-48b9-a358-491e67f383f0"
      }
     }
    }
   },
   "themes": {}
  }
 },
 "nbformat": 4,
 "nbformat_minor": 0
}
