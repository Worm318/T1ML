{
 "cells": [
  {
   "cell_type": "raw",
   "metadata": {},
   "source": [
    "selected = 30917 ...\n",
    "totalvars=994, R2train = 0.961713, R2val = 0.685478\n",
    "-1\n",
    "selected = 104762 ...\n",
    "totalvars=995, R2train = 0.961713, R2val = 0.685819\n",
    "-1\n",
    "selected = 69899 ...\n",
    "totalvars=996, R2train = 0.961720, R2val = 0.688152\n",
    "-1\n",
    "selected = 97187 ...\n",
    "totalvars=997, R2train = 0.961723, R2val = 0.689674\n",
    "-1\n",
    "selected = 17471 ...\n",
    "totalvars=998, R2train = 0.961726, R2val = 0.688341\n",
    "-1\n",
    "selected = 4560 ...\n",
    "totalvars=999, R2train = 0.961736, R2val = 0.689293\n",
    "-1\n",
    "selected = 128861 ...\n",
    "totalvars=1000, R2train = 0.961736, R2val = 0.689288\n",
    "-1\n",
    "selected = 51450 ...\n",
    "totalvars=1001, R2train = 0.961801, R2val = 0.689880\n",
    "-1\n",
    "training R2=0.961801\n",
    "validate R2=0.689880\n",
    "test R2=-0.612203\n"
   ]
  }
 ],
 "metadata": {
  "kernelspec": {
   "display_name": "Python [Root]",
   "language": "python",
   "name": "Python [Root]"
  },
  "language_info": {
   "codemirror_mode": {
    "name": "ipython",
    "version": 2
   },
   "file_extension": ".py",
   "mimetype": "text/x-python",
   "name": "python",
   "nbconvert_exporter": "python",
   "pygments_lexer": "ipython2",
   "version": "2.7.12"
  }
 },
 "nbformat": 4,
 "nbformat_minor": 0
}
