{
 "cells": [
  {
   "cell_type": "markdown",
   "metadata": {
    "nbpresent": {
     "id": "b0eeb39a-477c-443b-ab52-dbb43ffa66ed"
    },
    "slideshow": {
     "slide_type": "slide"
    }
   },
   "source": [
    "# Selección de Atributos"
   ]
  },
  {
   "cell_type": "markdown",
   "metadata": {
    "nbpresent": {
     "id": "f4537803-9727-4a2d-a08d-91773d40196d"
    },
    "slideshow": {
     "slide_type": "skip"
    }
   },
   "source": [
    "Primero que todo, se carga el dataframe de la actividad 1"
   ]
  },
  {
   "cell_type": "code",
   "execution_count": 6,
   "metadata": {
    "collapsed": true,
    "nbpresent": {
     "id": "3126ab85-311c-40fc-a71e-beec74aa3185"
    },
    "slideshow": {
     "slide_type": "skip"
    }
   },
   "outputs": [],
   "source": [
    "import pandas as pd\n",
    "import numpy as np\n",
    "import sklearn.linear_model as lm\n",
    "from sklearn.preprocessing import StandardScaler\n",
    "url = 'http://statweb.stanford.edu/~tibs/ElemStatLearn/datasets/prostate.data'\n",
    "df = pd.read_csv(url, sep='\\t', header=0)\n",
    "df = df.drop('Unnamed: 0', axis=1)\n",
    "istrain_str = df['train']\n",
    "istrain = np.asarray([True if s == 'T' else False for s in istrain_str])\n",
    "istest = np.logical_not(istrain)\n",
    "df = df.drop('train', axis=1)\n",
    "\n",
    "scaler = StandardScaler()\n",
    "df_scaled = pd.DataFrame(scaler.fit_transform(df), columns=df.columns)\n",
    "df_scaled['lpsa'] = df['lpsa']\n",
    "\n",
    "X = df_scaled.ix[:,:-1]\n",
    "N = X.shape[0]\n",
    "X.insert(X.shape[1], 'intercept', np.ones(N))\n",
    "\n",
    "y = df_scaled['lpsa']\n",
    "Xtrain = X[istrain]\n",
    "ytrain = y[istrain]\n",
    "Xtest = X[np.logical_not(istrain)]\n",
    "ytest = y[np.logical_not(istrain)]\n",
    "Xm = Xtrain.as_matrix()\n",
    "ym = ytrain.as_matrix()\n",
    "Xt = Xtest.as_matrix()\n",
    "yt = ytest.as_matrix()"
   ]
  },
  {
   "cell_type": "markdown",
   "metadata": {
    "nbpresent": {
     "id": "d10ee7cf-ab9e-4fb8-95ea-5a0679c02759"
    },
    "slideshow": {
     "slide_type": "-"
    }
   },
   "source": [
    "## Forward Step-wise Selection\n",
    "\n",
    "**Forward Step-wise Selection (FSS)** es una técnica que permite seleccionar iterativamente las mejores características de modelo. Se comienza con un modelo sin características (solo con el `intercept`). En cada iteración se prueba ingresando una nueva característica al modelo y se le asigna un puntaje. Se escoje aquella con el mejor puntaje y se ingresa en el modelo. Este proceso continua hasta que el modelo empeore o se cumpla un criterio de parada.\n",
    "\n",
    "En este caso se aplico FSS usando el valor absoluto de los pesos de cada predictor o característica al construirse el modelo. En este caso no se incluyó un criterio de parada de forma de poder observar como va cambiando el error cuadrático medio conforme se integran nuevas características."
   ]
  },
  {
   "cell_type": "code",
   "execution_count": 9,
   "metadata": {
    "collapsed": false,
    "nbpresent": {
     "id": "2ced531c-3beb-40ea-a287-feb20810ae2e"
    },
    "slideshow": {
     "slide_type": "-"
    }
   },
   "outputs": [],
   "source": [
    "\n",
    "import sklearn.linear_model as lm\n",
    "import code\n",
    "import pandas as pd\n",
    "import numpy as np\n",
    "import matplotlib.pyplot as plt\n",
    "\n",
    "#Definicion de fss\n",
    "#x, y corresponden al conjunto y vector de entrenamiento respectivamente\n",
    "#xt, yt corresponden al conjunto y vector de prueba respectivamente\n",
    "#names_x los nombres de las características\n",
    "#k el número máximo de características\n",
    "def fss(x, y, xt, yt, names_x, k = 10000):\n",
    "\tp = x.shape[1]-1\n",
    "\tk = min(p, k)\n",
    "\tnames_x = np.array(names_x)\n",
    "\tremaining = range(0, p)\n",
    "\tselected = [p]\n",
    "\tcurrent_score = 0.0\n",
    "\tbest_new_score = 0.0\n",
    "\tresults_train = []\n",
    "\tresults_test = []\n",
    "\twhile remaining and len(selected)<=k:\n",
    "\t\tscore_candidates = []\n",
    "\t\tfor candidate in remaining:\n",
    "\t\t\tmodel = lm.LinearRegression(fit_intercept=False)\n",
    "\t\t\tindexes = selected + [candidate]\n",
    "\t\t\tx_train = x[:,indexes]\n",
    "\t\t\tmodel.fit(x_train, y)\n",
    "\t\t\twscore_candidate = abs(model.coef_[indexes.index(candidate)])\n",
    "\t\t\t\n",
    "\t\t\tresiduals_train = model.predict(x_train) - ym\n",
    "\t\t\tmse_train_candidate = np.mean(np.power(residuals_train, 2))\n",
    "\t\t\tx_test = xt[:,indexes]\n",
    "\t\t\tresiduals_test = model.predict(x_test) - yt\n",
    "\t\t\tmse_test_candidate = np.mean(np.power(residuals_test, 2))\n",
    "\t\t\tscore_candidates.append((wscore_candidate, candidate, mse_train_candidate, mse_test_candidate))\n",
    "\t\tscore_candidates.sort()\n",
    "\n",
    "\t\tbest_new_score, best_candidate, mse_train, mse_test = score_candidates.pop()\n",
    "\t\tremaining.remove(best_candidate)\n",
    "\t\tselected.append(best_candidate)\n",
    "\t\tresults_train.append(mse_train)\n",
    "\t\tresults_test.append(mse_test)\n",
    "\n",
    "\t\tprint \"selected = %s ...\"%names_x[best_candidate]\n",
    "\t\tprint \"totalvars=%d, abs_weight = %f\"%(len(indexes),best_new_score)\n",
    "\t\tprint \"mse train=%f test=%f\"%(mse_train,mse_test)\n",
    "\n",
    "\treturn selected, results_train, results_test\n",
    "                                          \n"
   ]
  },
  {
   "cell_type": "code",
   "execution_count": 10,
   "metadata": {
    "collapsed": false,
    "nbpresent": {
     "id": "8557a37f-d6e1-4d61-8c7c-5509238b237e"
    },
    "scrolled": true,
    "slideshow": {
     "slide_type": "-"
    }
   },
   "outputs": [
    {
     "name": "stdout",
     "output_type": "stream",
     "text": [
      "selected = Lcavol ...\n",
      "totalvars=2, abs_weight = 0.835589\n",
      "mse train=0.664606 test=0.479739\n",
      "selected = Lweight ...\n",
      "totalvars=3, abs_weight = 0.314693\n",
      "mse train=0.553610 test=0.492482\n",
      "selected = Svi ...\n",
      "totalvars=4, abs_weight = 0.221538\n",
      "mse train=0.521011 test=0.400531\n",
      "selected = Lbph ...\n",
      "totalvars=5, abs_weight = 0.202079\n",
      "mse train=0.489776 test=0.456332\n",
      "selected = Lcp ...\n",
      "totalvars=6, abs_weight = 0.133718\n",
      "mse train=0.482430 test=0.474415\n",
      "selected = Pgg45 ...\n",
      "totalvars=7, abs_weight = 0.211594\n",
      "mse train=0.455818 test=0.548593\n",
      "selected = Age ...\n",
      "totalvars=8, abs_weight = 0.144280\n",
      "mse train=0.439363 test=0.516513\n",
      "selected = Gleason ...\n",
      "totalvars=9, abs_weight = 0.021195\n",
      "mse train=0.439200 test=0.521274\n"
     ]
    }
   ],
   "source": [
    "names_regressors = [\"Lcavol\", \"Lweight\", \"Age\", \"Lbph\", \"Svi\", \"Lcp\", \"Gleason\", \"Pgg45\", \"Intercept\"]\n",
    "selected, result_train, result_test = fss(Xm,ym,Xt,yt,names_regressors)"
   ]
  },
  {
   "cell_type": "markdown",
   "metadata": {
    "nbpresent": {
     "id": "3b067cb9-33a5-4938-af60-535712300cd8"
    },
    "slideshow": {
     "slide_type": "slide"
    }
   },
   "source": [
    "Se puede observar como FSS va agregando variables y va disminuyendo el error cuadrático medio del conjunto de entrenamiento, pero no así, el error cuadrático medio del conjunto de pruebas que va variando. Las tres primeras variables con el peso más alto corresponden a aquellas con el z-score más alto y por tanto las con mayor evidencia de relación con el modelo. Curiosamente, no son aquellas con los coeficientes más altos en el modelo completo.\n",
    "\n",
    "|            | lcavol | lweight | age    | lbph  | svi   | lcp    | gleason | pgg45 | intercept |\n",
    "|------------|--------|---------|--------|-------|-------|--------|---------|-------|-----------|\n",
    "|Coeficientes| **0.676**  | **0.262**   | -0.141 | **0.209** | **0.304** | -0.287 | -0.021  | **0.266** | **2.465**     |\n",
    "|Z-score     | **5.366**  | **2.751**   | -1.396 | **2.056** | **2.469** | -1.867 | -0.147  | **1.738** | **27.598**|"
   ]
  },
  {
   "cell_type": "code",
   "execution_count": 11,
   "metadata": {
    "collapsed": false,
    "nbpresent": {
     "id": "f8828608-d484-438d-840b-8ac83458d462"
    },
    "scrolled": false,
    "slideshow": {
     "slide_type": "-"
    }
   },
   "outputs": [
    {
     "data": {
      "image/png": "[encoded data removed]",
      "text/plain": [
       "<matplotlib.figure.Figure at 0x7f595eac8a90>"
      ]
     },
     "metadata": {},
     "output_type": "display_data"
    }
   ],
   "source": [
    "%matplotlib inline\n",
    "\n",
    "plt.xlabel('# Variables')\n",
    "plt.ylabel('MSE')\n",
    "plt.plot(range(2,10),result_train,'bo')\n",
    "train_line, = plt.plot(range(2,10),result_train,'b-')\n",
    "plt.plot(range(2,10),result_test,'go')\n",
    "test_line, = plt.plot(range(2,10),result_test,'g-')\n",
    "plt.legend([train_line,test_line],['train error','test error'],loc=1)\n",
    "\n",
    "plt.show()"
   ]
  },
  {
   "cell_type": "markdown",
   "metadata": {
    "nbpresent": {
     "id": "27184012-3b1a-45a6-9b1b-7aa8f06943f2"
    },
    "slideshow": {
     "slide_type": "slide"
    }
   },
   "source": [
    "Al mirar el gráfico se puede apreciar que al agregar las tres primeras variables el error en el conjunto de pruebas se minimiza. Posterior a ello se produce un sobre-ajuste a medida que el error de entrenamiento disminuye y el de pruebas aumenta."
   ]
  },
  {
   "cell_type": "markdown",
   "metadata": {
    "slideshow": {
     "slide_type": "-"
    }
   },
   "source": [
    "## Backward Step-wise Selection (BSS)\n",
    "\n",
    "**Backward Step-wise Selection (BSS)** es una técnica similar. En este caso se comienza con un modelo con todas las características. En cada iteración se prueba sacando una característica del modelo de acuerdo a un puntaje. Se escoje aquella que mejore el puntaje y se remueve del modelo. Este proceso continua hasta que el modelo empeore o se cumpla un criterio de parada.\n",
    "\n",
    "De igual forma, se implementó BSS usando el valor absoluto de los pesos de cada predictor o característica al construirse el modelo. En cada iteración se ajustaba el modelo, se veía cual era la característica con el peso más bajo y se removía. En este caso no se incluyó un criterio de parada de forma de poder observar como va cambiando el error cuadrático medio conforme se retiran características."
   ]
  },
  {
   "cell_type": "code",
   "execution_count": 16,
   "metadata": {
    "collapsed": false,
    "slideshow": {
     "slide_type": "-"
    }
   },
   "outputs": [],
   "source": [
    "\n",
    "import sklearn.linear_model as lm\n",
    "import code\n",
    "import pandas as pd\n",
    "import numpy as np\n",
    "import matplotlib.pyplot as plt\n",
    "\n",
    "#Definicion de bss\n",
    "#x, y corresponden al conjunto y vector de entrenamiento respectivamente\n",
    "#xt, yt corresponden al conjunto y vector de prueba respectivamente\n",
    "#names_x los nombres de las características\n",
    "#k el número máximo de características\n",
    "def bss(x, y, xt, yt, names_x, k = 1):\n",
    "\tp = x.shape[1]-1\n",
    "\tk = min(p, k)\n",
    "\tnames_x = np.array(names_x)\n",
    "\tremaining = range(0, p)\n",
    "\tselected = range(0,p+1)\n",
    "\tcurrent_score = 0.0\n",
    "\tbest_new_score = 0.0\n",
    "\tresults_train = []\n",
    "\tresults_test = []\n",
    "\t\n",
    "\tmodel = lm.LinearRegression(fit_intercept=False)\n",
    "\tmodel.fit(x,y)\n",
    "\tresiduals_train = model.predict(x) - y\n",
    "\tresults_train.append(np.mean(np.power(residuals_train, 2)))\n",
    "\tresiduals_test = model.predict(xt) - yt\n",
    "\tresults_test.append(np.mean(np.power(residuals_test, 2)))\n",
    "\n",
    "\twhile len(remaining)>k and len(selected)>k:\n",
    "\t\tscore_candidates = []\n",
    "\t\tfor candidate in remaining:\n",
    "\t\t\t#ajustamos el modelo a lo actualmente seleccionado\n",
    "\t\t\tmodel = lm.LinearRegression(fit_intercept=False)\n",
    "\t\t\tx_train = x[:,selected]\n",
    "\t\t\tmodel.fit(x_train,y)\n",
    "\t\t\twscore_candidate = abs(model.coef_[selected.index(candidate)])\n",
    "\t\t\t\n",
    "\t\t\t#removemos la variable y calculamos el training error por removerla\n",
    "\t\t\tindexes = selected[:]\n",
    "\t\t\tindexes.remove(candidate)\n",
    "\t\t\tx_train = x[:,indexes]\n",
    "\t\t\tmodel.fit(x_train, y)\n",
    "\t\t\t\n",
    "\t\t\tresiduals_train = model.predict(x_train) - y\n",
    "\t\t\tmse_train_candidate = np.mean(np.power(residuals_train, 2))\n",
    "\t\t\tx_test = xt[:,indexes]\n",
    "\t\t\tresiduals_test = model.predict(x_test) - yt\n",
    "\t\t\tmse_test_candidate = np.mean(np.power(residuals_test, 2))\n",
    "\n",
    "\t\t\tscore_candidates.append((wscore_candidate, candidate, mse_train_candidate, mse_test_candidate))\n",
    "\n",
    "\t\tscore_candidates.sort()\n",
    "\t\tscore_candidates[:] = score_candidates[::-1]\n",
    "\t\tbest_new_score, best_candidate, mse_train, mse_test = score_candidates.pop()\n",
    "\t\tremaining.remove(best_candidate)\n",
    "\t\tselected.remove(best_candidate)\n",
    "\t\tresults_train.append(mse_train)\n",
    "\t\tresults_test.append(mse_test)\n",
    "\n",
    "\t\tprint \"selected = %s ...\"%names_x[best_candidate]\n",
    "\t\tprint \"totalvars=%d, abs_weight = %f\"%(len(indexes),best_new_score)\n",
    "\t\tprint \"mse train=%f test=%f\"%(mse_train,mse_test)\n",
    "\n",
    "\treturn selected, results_train, results_test\n",
    "\n",
    "                                          \n"
   ]
  },
  {
   "cell_type": "code",
   "execution_count": 17,
   "metadata": {
    "collapsed": false,
    "scrolled": true,
    "slideshow": {
     "slide_type": "-"
    }
   },
   "outputs": [
    {
     "name": "stdout",
     "output_type": "stream",
     "text": [
      "selected = Gleason ...\n",
      "totalvars=8, abs_weight = 0.021195\n",
      "mse train=0.439363 test=0.516513\n",
      "selected = Age ...\n",
      "totalvars=7, abs_weight = 0.144280\n",
      "mse train=0.455818 test=0.548593\n",
      "selected = Lbph ...\n",
      "totalvars=6, abs_weight = 0.181826\n",
      "mse train=0.480859 test=0.509882\n",
      "selected = Pgg45 ...\n",
      "totalvars=5, abs_weight = 0.226612\n",
      "mse train=0.511548 test=0.437058\n",
      "selected = Lcp ...\n",
      "totalvars=4, abs_weight = 0.151438\n",
      "mse train=0.521011 test=0.400531\n",
      "selected = Svi ...\n",
      "totalvars=3, abs_weight = 0.221538\n",
      "mse train=0.553610 test=0.492482\n",
      "selected = Lweight ...\n",
      "totalvars=2, abs_weight = 0.314693\n",
      "mse train=0.664606 test=0.479739\n"
     ]
    }
   ],
   "source": [
    "names_regressors = [\"Lcavol\", \"Lweight\", \"Age\", \"Lbph\", \"Svi\", \"Lcp\", \"Gleason\", \"Pgg45\", \"Intercept\"]\n",
    "selected, result_train, result_test = bss(Xm,ym,Xt,yt,names_regressors)"
   ]
  },
  {
   "cell_type": "markdown",
   "metadata": {
    "slideshow": {
     "slide_type": "slide"
    }
   },
   "source": [
    "Se puede observar como BSS va quitando variable y va aumentando el error cuadrático medio del conjunto de entrenamiento, pero no así, el error cuadrático medio del conjunto de pruebas que va variando. Notar que la implementación no remueve la última variable. Notar que la tercera variable que saca no se corresponde con la antepenultima que ingreso FSS.\n",
    "\n",
    "|            | lcavol | lweight | age    | lbph  | svi   | lcp    | gleason | pgg45 | intercept |\n",
    "|------------|--------|---------|--------|-------|-------|--------|---------|-------|-----------|\n",
    "|Coeficientes| **0.676**  | **0.262**   | -0.141 | **0.209** | **0.304** | -0.287 | -0.021  | **0.266** | **2.465**     |\n",
    "|Z-score     | **5.366**  | **2.751**   | -1.396 | **2.056** | **2.469** | -1.867 | -0.147  | **1.738** | **27.598**|"
   ]
  },
  {
   "cell_type": "code",
   "execution_count": 18,
   "metadata": {
    "collapsed": false,
    "scrolled": true,
    "slideshow": {
     "slide_type": "-"
    }
   },
   "outputs": [
    {
     "data": {
      "image/png": "[encoded data removed]",
      "text/plain": [
       "<matplotlib.figure.Figure at 0x7f595b6dda10>"
      ]
     },
     "metadata": {},
     "output_type": "display_data"
    }
   ],
   "source": [
    "%matplotlib inline\n",
    "\n",
    "ax = plt.gca()\n",
    "ax.invert_xaxis()\n",
    "\n",
    "plt.xlabel('# Variables')\n",
    "plt.ylabel('MSE')\n",
    "plt.plot(range(2,10)[::-1],result_train,'bo')\n",
    "train_line, = plt.plot(range(2,10)[::-1],result_train,'b-')\n",
    "plt.plot(range(2,10)[::-1],result_test,'go')\n",
    "test_line, = plt.plot(range(2,10)[::-1],result_test,'g-')\n",
    "plt.legend([train_line,test_line],['train error','test error'],loc=1)\n",
    "\n",
    "plt.show()"
   ]
  },
  {
   "cell_type": "markdown",
   "metadata": {
    "slideshow": {
     "slide_type": "slide"
    }
   },
   "source": [
    "Al mirar el gráfico se puede apreciar el cambio de BSS respecto de FSS en el cruce cuando remueve la tercera variable (cuando al modelo le quedan 6). El error de entrenamiento en este caso es mayor que al usar FSS en este punto. Sin embargo, al punto que al modelo quedaban 5 variables se puede ver que el comportamiento es igual y de hecho el mínimo del error de entrenamiento es el mismo."
   ]
  },
  {
   "cell_type": "markdown",
   "metadata": {},
   "source": [
    "## Conclusiones\n",
    "\n",
    "Se implementó Forward Step-Wise Selection y Backward Step-Wise Selection. Se comprobó que ambos enfoques, aunque funcionan de manera inversa, pueden tener distintos resultados dependiendo del puntaje escogido. \n",
    "\n",
    "Al ver los errores de entrenamiento y de pruebas al incluir/remover variables del modelo se observó un cierto sobre-ajuste del modelo al incluir un gran número de variables. Por tanto, podría ser sensato considerar la eliminación de aquellas variables con baja influencia en el modelo y determinar un criterio de parada para evitar incluir estas variables al hacer uso de FSS (o de sacar en el caso de BSS)."
   ]
  }
 ],
 "metadata": {
  "celltoolbar": "Slideshow",
  "kernelspec": {
   "display_name": "Python [Root]",
   "language": "python",
   "name": "Python [Root]"
  },
  "language_info": {
   "codemirror_mode": {
    "name": "ipython",
    "version": 2
   },
   "file_extension": ".py",
   "mimetype": "text/x-python",
   "name": "python",
   "nbconvert_exporter": "python",
   "pygments_lexer": "ipython2",
   "version": "2.7.12"
  },
  "nbpresent": {
   "slides": {
    "07dd3a63-3faa-4a81-85bb-4aacdf1179cc": {
     "id": "07dd3a63-3faa-4a81-85bb-4aacdf1179cc",
     "prev": null,
     "regions": {
      "1ff47f7f-0873-4414-aebc-ae7c3a159268": {
       "attrs": {
        "height": 0.4,
        "width": 0.8,
        "x": 0.1,
        "y": 0.5
       },
       "content": {
        "cell": "d10ee7cf-ab9e-4fb8-95ea-5a0679c02759",
        "part": "whole"
       },
       "id": "1ff47f7f-0873-4414-aebc-ae7c3a159268"
      },
      "219966bb-6016-44b0-bdbc-48a4aa8f256a": {
       "attrs": {
        "height": 0.8,
        "width": 0.8,
        "x": 0.1,
        "y": 0.1
       },
       "content": {
        "cell": "b0eeb39a-477c-443b-ab52-dbb43ffa66ed",
        "part": "whole"
       },
       "id": "219966bb-6016-44b0-bdbc-48a4aa8f256a"
      }
     }
    },
    "1b7e4167-e188-4527-8132-3e90e63d7782": {
     "id": "1b7e4167-e188-4527-8132-3e90e63d7782",
     "prev": "6b69aa2c-6ac0-456b-80fd-6c30c088ec95",
     "regions": {
      "a65804a8-0dec-4b5f-bf73-b7d93ada0a7b": {
       "attrs": {
        "height": 0.4,
        "width": 0.8,
        "x": 0.1,
        "y": 0.5
       },
       "content": {
        "cell": "8557a37f-d6e1-4d61-8c7c-5509238b237e",
        "part": "whole"
       },
       "id": "a65804a8-0dec-4b5f-bf73-b7d93ada0a7b"
      },
      "d8f16730-08fe-4d39-87d2-1ab1a723889f": {
       "attrs": {
        "height": 0.8,
        "width": 0.8,
        "x": 0.1,
        "y": 0.1
       },
       "content": {
        "cell": "3b067cb9-33a5-4938-af60-535712300cd8",
        "part": "whole"
       },
       "id": "d8f16730-08fe-4d39-87d2-1ab1a723889f"
      }
     }
    },
    "6b69aa2c-6ac0-456b-80fd-6c30c088ec95": {
     "id": "6b69aa2c-6ac0-456b-80fd-6c30c088ec95",
     "prev": "07dd3a63-3faa-4a81-85bb-4aacdf1179cc",
     "regions": {
      "095e1a1b-bd95-42b4-bb5e-59d60d85d715": {
       "attrs": {
        "height": 0.4,
        "width": 0.8,
        "x": 0.1,
        "y": 0.5
       },
       "content": {
        "cell": "2ced531c-3beb-40ea-a287-feb20810ae2e",
        "part": "whole"
       },
       "id": "095e1a1b-bd95-42b4-bb5e-59d60d85d715"
      },
      "9120f36a-9950-4d80-b769-32dd05eb76dd": {
       "attrs": {
        "height": 0.8,
        "width": 0.8,
        "x": 0.1,
        "y": 0.1
       },
       "content": {
        "cell": "c4603135-18ef-4cd6-a48b-b32343792126",
        "part": "whole"
       },
       "id": "9120f36a-9950-4d80-b769-32dd05eb76dd"
      }
     }
    },
    "75c67b31-a4a8-495b-b3a5-edf5771f73bb": {
     "id": "75c67b31-a4a8-495b-b3a5-edf5771f73bb",
     "prev": "1b7e4167-e188-4527-8132-3e90e63d7782",
     "regions": {
      "0bc5d475-7d1f-4fb0-a5f6-f20f9d89eef9": {
       "attrs": {
        "height": 0.4,
        "width": 0.8,
        "x": 0.1,
        "y": 0.5
       },
       "content": {
        "cell": "f8828608-d484-438d-840b-8ac83458d462",
        "part": "whole"
       },
       "id": "0bc5d475-7d1f-4fb0-a5f6-f20f9d89eef9"
      },
      "1849c0f8-71a6-4de2-8eb3-0d7b87c52b4f": {
       "attrs": {
        "height": 0.8,
        "width": 0.8,
        "x": 0.1,
        "y": 0.1
       },
       "content": {
        "cell": "27184012-3b1a-45a6-9b1b-7aa8f06943f2",
        "part": "whole"
       },
       "id": "1849c0f8-71a6-4de2-8eb3-0d7b87c52b4f"
      }
     }
    }
   },
   "themes": {}
  }
 },
 "nbformat": 4,
 "nbformat_minor": 0
}
