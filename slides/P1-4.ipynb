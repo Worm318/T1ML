{
 "cells": [
  {
   "cell_type": "markdown",
   "metadata": {
    "slideshow": {
     "slide_type": "slide"
    }
   },
   "source": [
    "# Predicción de Utilidades de Películas"
   ]
  },
  {
   "cell_type": "markdown",
   "metadata": {
    "slideshow": {
     "slide_type": "slide"
    }
   },
   "source": [
    "# Predicción de Utilidades de Películas\n",
    "\n",
    "- Conjunto de entrada X\n",
    "    - Dataset dispersos\n",
    "        - Requiere de estructuras de datos especiales (compresión y algoritmos)\n",
    "        - Formato csc_matrix (*Compressed Sparse Column matrix*)\n",
    "    - Entrada con 145256 características\n",
    "    - Conjunto de entrenamiento: 1147 ejemplos\n",
    "    - Conjunto de validación: 317 ejemplos\n",
    "    - Conjunto de pruebas: 254 ejemplos"
   ]
  },
  {
   "cell_type": "markdown",
   "metadata": {
    "slideshow": {
     "slide_type": "slide"
    }
   },
   "source": [
    "## Regresión Lineal\n",
    "\n",
    "Meta inicial: Regresión Lineal Ordinaria\n",
    "\n",
    "- $R^2_{train} = 1$\n",
    "- $R^2_{val} = 0.61$\n",
    "\n",
    "- $R^2_{test} = 0.60$\n",
    "\n",
    "```python\n",
    "import sklearn.linear_model as lm\n",
    "linreg = lm.LinearRegression(fit_intercept=False)\n",
    "linreg.fit(X,y)\n",
    "print \"training R2=%f\"%linreg.score(X,y)\n",
    "print \"validate R2=%f\"%linreg.score(Xv,yv)\n",
    "print \"test R2=%f\"%linreg.score(Xt,yt)\n",
    "```"
   ]
  },
  {
   "cell_type": "markdown",
   "metadata": {
    "collapsed": true,
    "slideshow": {
     "slide_type": "slide"
    }
   },
   "source": [
    "## Enfoques usados\n",
    "\n",
    "Se probaron distintos enfoques. Los más destacables siendo:\n",
    "\n",
    "- Umbral de varianza\n",
    "- Forward Stepwise Selection\n",
    "- Regresión Lasso\n",
    "\n",
    "No obstante ningún enfoque logro una mejora substancial sobre la regresión lineal anteriormente vista e incluso algunos se podrían considerar invali."
   ]
  },
  {
   "cell_type": "markdown",
   "metadata": {
    "collapsed": true,
    "slideshow": {
     "slide_type": "slide"
    }
   },
   "source": [
    "## Umbral de Varianza\n",
    "\n",
    "Umbral de Varianza (`sklearn.feature_selection.VarianceThreshold`) es un selector básico de características\n",
    "\n",
    "Elimina aquellas características con baja varianza\n",
    "\n",
    "Se probó con umbrales de varianza de: $0.5$, $0.1$, $0.01$ y $0.001$"
   ]
  },
  {
   "cell_type": "markdown",
   "metadata": {
    "collapsed": true,
    "slideshow": {
     "slide_type": "subslide"
    }
   },
   "source": [
    "## Umbral de Varianza\n",
    "\n",
    "```python\n",
    "selector = fs.VarianceThreshold(threshold=0.5)\n",
    "Xn = selector.fit_transform(X)\n",
    "Xnt = selector.transform(Xt); Xnv = selector.transform(Xv)\n",
    "linreg.fit(Xn,y)\n",
    "print Xn.shape\n",
    "print \"training R2=%f\"%linreg.score(Xn,y)\n",
    "print \"validate R2=%f\"%linreg.score(Xnv,yv)\n",
    "print \"test R2=%f\"%linreg.score(Xnt,yt)\n",
    "```\n",
    "\n"
   ]
  },
  {
   "cell_type": "markdown",
   "metadata": {
    "collapsed": true,
    "slideshow": {
     "slide_type": "subslide"
    }
   },
   "source": [
    "## Umbral de Varianza\n",
    "\n",
    "\n",
    "```\n",
    "(1147, 1087)\n",
    "training R2=0.991065\n",
    "validate R2=-1.346798\n",
    "test R2=-0.464357\n",
    "(1147, 6214)\n",
    "training R2=1.000000\n",
    "validate R2=0.567887\n",
    "test R2=0.553110\n",
    "(1147, 58685)\n",
    "training R2=1.000000\n",
    "validate R2=0.611514\n",
    "test R2=0.593959\n",
    "(1147, 145222)\n",
    "training R2=1.000000\n",
    "validate R2=0.612862\n",
    "test R2=0.590313\n",
    "\n",
    "```"
   ]
  },
  {
   "cell_type": "markdown",
   "metadata": {
    "collapsed": true,
    "slideshow": {
     "slide_type": "slide"
    }
   },
   "source": [
    "## Forward Stepwise Selection\n",
    "\n",
    "Se aplico Forward Stepwise Selection\n",
    "\n",
    "En cada iteración se revisaban solo 10 características seleccionadas al azar\n",
    "\n",
    "1. Coeficientes del modelo\n",
    "2. $R^2$ sobre el conjunto de validación\n",
    "3. Balance de $R^2$ sobre los conjuntos de entrenamiento y validación"
   ]
  },
  {
   "cell_type": "markdown",
   "metadata": {
    "collapsed": true,
    "slideshow": {
     "slide_type": "subslide"
    }
   },
   "source": [
    "### FSS: Coeficientes del Modelo\n",
    "\n",
    "Se hizo uso de coeficientes del modelo como medida de puntaje\n",
    "\n",
    "```python\n",
    "#indexes los indices de las características ingresadas al modelo en esta iteración más el candidato\n",
    "score = abs(model.coef_[indexes.index(candidate)])\n",
    "```\n",
    "\n",
    "Fuerte sobreajuste, $R^2_{val}, R^2_{test} < 0$\n",
    "```\n",
    "training R2=0.999654\n",
    "validate R2=-0.965488\n",
    "test R2=-0.658075\n",
    "```\n",
    "\n",
    "Otros enfoques de FSS arrojaron resultados similares o peores\n"
   ]
  },
  {
   "cell_type": "markdown",
   "metadata": {
    "collapsed": true,
    "slideshow": {
     "slide_type": "slide"
    }
   },
   "source": [
    "## Regresión Lasso\n",
    "\n",
    "Se probó regresión Lasso para ver si eliminaba correctamente las características poco importantes del modelo.\n",
    "\n",
    "Se hizo una búsqueda semi-manual del parámetro $\\alpha$ que maximizara $R^2$ sobre el conjunto de pruebas. \n",
    "\n",
    "La búsqueda se realizó en el rango $[10^{100},10^0]$\n",
    "\n"
   ]
  },
  {
   "cell_type": "markdown",
   "metadata": {
    "slideshow": {
     "slide_type": "subslide"
    }
   },
   "source": [
    "## Regresión Lasso\n",
    "```\n",
    "#alphas_ = np.logspace(100,10,base=10)\n",
    "#alphas_ = np.logspace(10,0,base=10,num=10)\n",
    "#alphas_ = np.logspace(3,5,base=10,num=10)\n",
    "#alphas_ = np.arange(1000.,4000.,500).tolist()\n",
    "alphas_ = np.arange(1000.,4000.,500).tolist()\n",
    "model = lm.Lasso(fit_intercept = False)\n",
    "for a in alphas_:\n",
    "    print \"alpha=%f\"%a\n",
    "    model.set_params(alpha=a)\n",
    "    model.fit(X,y)\n",
    "    print \"training R2=%f\"%model.score(X,y)\n",
    "    print \"validate R2=%f\"%model.score(Xv,yv)\n",
    "    print \"test R2=%f\"%model.score(Xt,yt)\n",
    "```\n"
   ]
  },
  {
   "cell_type": "markdown",
   "metadata": {
    "slideshow": {
     "slide_type": "subslide"
    }
   },
   "source": [
    "## Regresión Lasso\n",
    "```\n",
    "...\n",
    "alpha=1500.000000\n",
    "training R2=0.999961\n",
    "validate R2=0.536099\n",
    "test R2=0.540964\n",
    "alpha=2000.000000\n",
    "training R2=0.999931\n",
    "validate R2=0.543443\n",
    "test R2=0.546293\n",
    "alpha=2500.000000\n",
    "training R2=0.999892\n",
    "validate R2=0.548085\n",
    "test R2=0.543148\n",
    "...\n",
    "```"
   ]
  },
  {
   "cell_type": "markdown",
   "metadata": {
    "slideshow": {
     "slide_type": "slide"
    }
   },
   "source": [
    "## Conclusiones\n",
    "\n",
    "Se probaron diferentes enfoques los que obtuvieron diferentes valores para el coeficiente de determinación. \n",
    "\n",
    "- Modelo de regresión lineal \n",
    "    - $R^2_{test} = 0.590$. Se intentó mejorar sobre este con distintos enfoques.\n",
    "\n",
    "- Umbral de Varianza\n",
    "    - Se redujo el número de características de 145265 a 58685\n",
    "    - Mejora marginal de $R^2_{test} = R^2 = 0.594$. \n",
    "    - ¿Coincidencia?\n"
   ]
  },
  {
   "cell_type": "markdown",
   "metadata": {
    "slideshow": {
     "slide_type": "slide"
    }
   },
   "source": [
    "## Conclusiones\n",
    "\n",
    "Se probaron diferentes enfoques los que obtuvieron diferentes valores para el coeficiente de determinación. \n",
    "\n",
    "- Forward Stepwise Selection\n",
    "    - Produjo en general malos resultados\n",
    "    - Podría necesitar de otros criterios para aceptación de nuevas variables\n",
    "\n",
    "- Lasso\n",
    "    - No produjo una mejora respecto del modelo lineal\n",
    "    - $R^2_{test} = 0.546 para $\\alpha = 2000$\n"
   ]
  }
 ],
 "metadata": {
  "celltoolbar": "Slideshow",
  "kernelspec": {
   "display_name": "Python [Root]",
   "language": "python",
   "name": "Python [Root]"
  },
  "language_info": {
   "codemirror_mode": {
    "name": "ipython",
    "version": 2
   },
   "file_extension": ".py",
   "mimetype": "text/x-python",
   "name": "python",
   "nbconvert_exporter": "python",
   "pygments_lexer": "ipython2",
   "version": "2.7.12"
  }
 },
 "nbformat": 4,
 "nbformat_minor": 0
}
