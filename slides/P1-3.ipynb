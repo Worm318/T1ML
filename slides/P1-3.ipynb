{
 "cells": [
  {
   "cell_type": "markdown",
   "metadata": {
    "slideshow": {
     "slide_type": "slide"
    }
   },
   "source": [
    "# Regularización"
   ]
  },
  {
   "cell_type": "markdown",
   "metadata": {
    "slideshow": {
     "slide_type": "slide"
    }
   },
   "source": [
    "## Regresión Ridge\n",
    "\n",
    "**Regresión Ridge** es un modelo que aplica regularización a los coeficientes usando la norma $\\ell_2$.\n",
    "\n",
    "El vector de coeficientes de Ridge viene dado por la siguiente formula:\n",
    "\n",
    "$$ \\hat{\\beta}^{ridge} = Argmin_\\beta\\{\\sum_{i=1}^{N}(Y_i - \\beta_0 - \\sum_{j=1}^{p}{(X_{ij}\\beta{j})^2} + \\alpha \\sum_{j=1}^p{\\beta_j^2} \\} $$\n",
    "\n",
    "Donde $\\alpha \\geq 0$ es el parámetro de regularización. Ridge va a reducir el valor de los coeficientes a medida que $\\alpha$ aumente."
   ]
  },
  {
   "cell_type": "markdown",
   "metadata": {
    "slideshow": {
     "slide_type": "slide"
    }
   },
   "source": [
    "### Variación de coeficientes Regresión Ridge\n",
    "\n",
    "Método iterativo para ver el comportamiento de los coeficientes en comparación del $\\alpha$ asociado\n",
    "\n",
    "Notar que para este caso el rango del parámetro de regularización se aplicó entre $\\alpha \\in [10^4,10^{-1}]$.\n",
    "\n",
    "Aumento de $\\alpha$ $\\rightarrow$ Coeficientes disminuyen\n",
    "\n",
    "![alt text](ridge-coef.png \"Coeficientes Ridge\")"
   ]
  },
  {
   "cell_type": "markdown",
   "metadata": {
    "slideshow": {
     "slide_type": "slide"
    }
   },
   "source": [
    "### Error de Regresión Ridge\n",
    "\n",
    "Se construyó un gráfico para observar el error en los conjuntos entrenamiento y pruebas respecto del parámetro de regularización $\\alpha$. \n",
    "\n",
    "El rango del parámetro fue $\\alpha \\in [10^2,10^{-2}]$.\n",
    "\n",
    "![alt text](ridge-error.png \"Error regresión ridge\")"
   ]
  },
  {
   "cell_type": "markdown",
   "metadata": {
    "slideshow": {
     "slide_type": "slide"
    }
   },
   "source": [
    "## Regresión Lasso\n",
    "\n",
    "**Regresión Lasso** es un modelo similar a Ridge que aplica regularización a los coeficientes usando la norma $\\ell_1$.\n",
    "\n",
    "El vector de coeficientes de Lasso viene dado por la siguiente formula:\n",
    "\n",
    "$$ \\hat{\\beta}^{lasso} = Argmin_\\beta\\{\\sum_{i=1}^{N}(Y_i - \\beta_0 - \\sum_{j=1}^{p}{(X_{ij}\\beta{j})^2} + \\alpha \\sum_{j=1}^p{|\\beta_j|} \\} $$\n",
    "\n",
    "Donde $\\alpha \\geq 0$ es el parámetro de regularización. Al igual que Ridge, el parámetro $\\alpha$ reduce el valor de los coeficientes, pero al usar el valor absoluto es más estricto y provocara que algunos coeficientes se igualen a cero."
   ]
  },
  {
   "cell_type": "markdown",
   "metadata": {
    "slideshow": {
     "slide_type": "slide"
    }
   },
   "source": [
    "### Variación de coeficientes Regresión Lasso\n",
    "\n",
    "Método iterativo para ver el comportamiento de los coeficientes en comparación del $\\alpha$ asociado.\n",
    "\n",
    "El rango del parámetro fue $\\alpha \\in [10^1,10^{-3}]$ \n",
    "\n",
    "Aumento de $\\alpha$ $\\rightarrow$ Coeficientes se igualan a cero\n",
    "\n",
    "![alt text](lasso-coef.png \"Coeficientes de Lasso\")"
   ]
  },
  {
   "cell_type": "markdown",
   "metadata": {
    "slideshow": {
     "slide_type": "slide"
    }
   },
   "source": [
    "### Error Regresión Lasso \n",
    "\n",
    "Se construyó un gráfico para observar el error en los conjuntos entrenamiento y pruebas respecto del parámetro de regularización $\\alpha$\n",
    "\n",
    "El rango del parámetro fue $\\alpha \\in [10^{0.5},10^{-2}]$.\n",
    "\n",
    "![alt text](lasso-error.png \"Error Lasso\")"
   ]
  },
  {
   "cell_type": "markdown",
   "metadata": {
    "slideshow": {
     "slide_type": "slide"
    }
   },
   "source": [
    "## Cross-Validation\n",
    "\n",
    "Finalmente, sobre ambas regresiones Ridge y Lasso se aplicó un método de validación cruzada k-fold con $k=10$ para buscar el $\\alpha$ que redujera el error en el conjunto de entrenamiento y observando el error en el conjunto de pruebas.\n",
    "\n",
    "Notar que $\\alpha \\in [10^2,10^{-2}]$ para la búsqueda en la regresión Ridge y $\\alpha \\in [10^{0.5},10^{-3}]$ para la búsqueda en la regresión de Lasso."
   ]
  },
  {
   "cell_type": "markdown",
   "metadata": {
    "slideshow": {
     "slide_type": "slide"
    }
   },
   "source": [
    "## Cross-Validation\n",
    "\n",
    "```\n",
    "Ridge CV\n",
    "...\n",
    "BEST PARAMETER=3.393222, MSE(CV)=0.752571\n",
    "Test Error 0.499463\n",
    "Testing alpha:2.811769\n",
    "BEST PARAMETER=2.811769, MSE(CV)=0.752036\n",
    "Test Error 0.501986\n",
    "Testing alpha:2.329952\n",
    "BEST PARAMETER=2.329952, MSE(CV)=0.751881\n",
    "Test Error 0.504378\n",
    "Testing alpha:1.930698\n",
    "Testing alpha:1.599859\n",
    "...\n",
    "```"
   ]
  },
  {
   "cell_type": "markdown",
   "metadata": {
    "slideshow": {
     "slide_type": "slide"
    }
   },
   "source": [
    "## Cross-Validation\n",
    "\n",
    "```\n",
    "Lasso CV\n",
    "\n",
    "BEST PARAMETER=0.005179, MSE(CV)=0.756585\n",
    "Test Error 0.507113\n",
    "Testing alpha:0.004394\n",
    "BEST PARAMETER=0.004394, MSE(CV)=0.756496\n",
    "Test Error 0.508997\n",
    "Testing alpha:0.003728\n",
    "BEST PARAMETER=0.003728, MSE(CV)=0.756467\n",
    "Test Error 0.510793\n",
    "Testing alpha:0.003162\n",
    "Testing alpha:0.002683\n",
    "Testing alpha:0.002276\n",
    "```"
   ]
  },
  {
   "cell_type": "markdown",
   "metadata": {},
   "source": [
    "## Conclusiones\n",
    "\n",
    "Se aplicaron Regresiones con regularización (Ridge y Lasso) al dataset.\n",
    "\n",
    "Se observó que Lasso elimina coeficientes (los iguala a cero) mucho más rápidamente que Ridge que va reduciendo su influencia más lentamente.\n",
    "\n",
    "Error mínimo sobre el conjunto de pruebas en un punto distinto al error mínimo del conjunto de entrenamiento \n",
    "- Diferencia de error posiblemente marginal. "
   ]
  }
 ],
 "metadata": {
  "celltoolbar": "Slideshow",
  "kernelspec": {
   "display_name": "Python [Root]",
   "language": "python",
   "name": "Python [Root]"
  },
  "language_info": {
   "codemirror_mode": {
    "name": "ipython",
    "version": 2
   },
   "file_extension": ".py",
   "mimetype": "text/x-python",
   "name": "python",
   "nbconvert_exporter": "python",
   "pygments_lexer": "ipython2",
   "version": "2.7.12"
  },
  "nbpresent": {
   "slides": {
    "07dd3a63-3faa-4a81-85bb-4aacdf1179cc": {
     "id": "07dd3a63-3faa-4a81-85bb-4aacdf1179cc",
     "prev": null,
     "regions": {
      "1ff47f7f-0873-4414-aebc-ae7c3a159268": {
       "attrs": {
        "height": 0.4,
        "width": 0.8,
        "x": 0.1,
        "y": 0.5
       },
       "content": {
        "cell": "d10ee7cf-ab9e-4fb8-95ea-5a0679c02759",
        "part": "whole"
       },
       "id": "1ff47f7f-0873-4414-aebc-ae7c3a159268"
      },
      "219966bb-6016-44b0-bdbc-48a4aa8f256a": {
       "attrs": {
        "height": 0.8,
        "width": 0.8,
        "x": 0.1,
        "y": 0.1
       },
       "content": {
        "cell": "b0eeb39a-477c-443b-ab52-dbb43ffa66ed",
        "part": "whole"
       },
       "id": "219966bb-6016-44b0-bdbc-48a4aa8f256a"
      }
     }
    },
    "1b7e4167-e188-4527-8132-3e90e63d7782": {
     "id": "1b7e4167-e188-4527-8132-3e90e63d7782",
     "prev": "6b69aa2c-6ac0-456b-80fd-6c30c088ec95",
     "regions": {
      "a65804a8-0dec-4b5f-bf73-b7d93ada0a7b": {
       "attrs": {
        "height": 0.4,
        "width": 0.8,
        "x": 0.1,
        "y": 0.5
       },
       "content": {
        "cell": "8557a37f-d6e1-4d61-8c7c-5509238b237e",
        "part": "whole"
       },
       "id": "a65804a8-0dec-4b5f-bf73-b7d93ada0a7b"
      },
      "d8f16730-08fe-4d39-87d2-1ab1a723889f": {
       "attrs": {
        "height": 0.8,
        "width": 0.8,
        "x": 0.1,
        "y": 0.1
       },
       "content": {
        "cell": "3b067cb9-33a5-4938-af60-535712300cd8",
        "part": "whole"
       },
       "id": "d8f16730-08fe-4d39-87d2-1ab1a723889f"
      }
     }
    },
    "6b69aa2c-6ac0-456b-80fd-6c30c088ec95": {
     "id": "6b69aa2c-6ac0-456b-80fd-6c30c088ec95",
     "prev": "07dd3a63-3faa-4a81-85bb-4aacdf1179cc",
     "regions": {
      "095e1a1b-bd95-42b4-bb5e-59d60d85d715": {
       "attrs": {
        "height": 0.4,
        "width": 0.8,
        "x": 0.1,
        "y": 0.5
       },
       "content": {
        "cell": "2ced531c-3beb-40ea-a287-feb20810ae2e",
        "part": "whole"
       },
       "id": "095e1a1b-bd95-42b4-bb5e-59d60d85d715"
      },
      "9120f36a-9950-4d80-b769-32dd05eb76dd": {
       "attrs": {
        "height": 0.8,
        "width": 0.8,
        "x": 0.1,
        "y": 0.1
       },
       "content": {
        "cell": "c4603135-18ef-4cd6-a48b-b32343792126",
        "part": "whole"
       },
       "id": "9120f36a-9950-4d80-b769-32dd05eb76dd"
      }
     }
    },
    "75c67b31-a4a8-495b-b3a5-edf5771f73bb": {
     "id": "75c67b31-a4a8-495b-b3a5-edf5771f73bb",
     "prev": "1b7e4167-e188-4527-8132-3e90e63d7782",
     "regions": {
      "0bc5d475-7d1f-4fb0-a5f6-f20f9d89eef9": {
       "attrs": {
        "height": 0.4,
        "width": 0.8,
        "x": 0.1,
        "y": 0.5
       },
       "content": {
        "cell": "f8828608-d484-438d-840b-8ac83458d462",
        "part": "whole"
       },
       "id": "0bc5d475-7d1f-4fb0-a5f6-f20f9d89eef9"
      },
      "1849c0f8-71a6-4de2-8eb3-0d7b87c52b4f": {
       "attrs": {
        "height": 0.8,
        "width": 0.8,
        "x": 0.1,
        "y": 0.1
       },
       "content": {
        "cell": "27184012-3b1a-45a6-9b1b-7aa8f06943f2",
        "part": "whole"
       },
       "id": "1849c0f8-71a6-4de2-8eb3-0d7b87c52b4f"
      }
     }
    }
   },
   "themes": {}
  }
 },
 "nbformat": 4,
 "nbformat_minor": 0
}
