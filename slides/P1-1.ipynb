{
 "cells": [
  {
   "cell_type": "markdown",
   "metadata": {
    "nbpresent": {
     "id": "3b0c012d-51d7-4e31-9b9a-ce03c86e6d0b"
    },
    "slideshow": {
     "slide_type": "slide"
    }
   },
   "source": [
    "# Regresión Lineal Ordinaria"
   ]
  },
  {
   "cell_type": "markdown",
   "metadata": {
    "nbpresent": {
     "id": "73e83cf5-1112-4b16-82da-e4c1d5d8296d"
    },
    "slideshow": {
     "slide_type": "slide"
    }
   },
   "source": [
    "# Regresión Lineal Ordinaria\n",
    "Construcción dataframe dataset\n",
    "- Cargar archivo\n",
    "- Borrar columna sin nombre que enumera los ejemplos.\n",
    "- Dos estructuras, el dataframe y un arreglo que indica si es de entrenamiento.\n",
    "\n",
    "```python\n",
    "import pandas as pd; import numpy as np;\n",
    "datafile = 'prostate.data'; df = pd.read_csv(datafile, sep='\\t', header=0);\n",
    "df = df.drop('Unnamed: 0', axis=1)\n",
    "istrain_str = df['train']; istrain = np.asarray([True if s == 'T' else False for s in istrain_str])\n",
    "istest = np.logical_not(istrain)\n",
    "df = df.drop('train', axis=1)\n",
    "```"
   ]
  },
  {
   "cell_type": "markdown",
   "metadata": {
    "nbpresent": {
     "id": "f93c5310-4e0c-46e8-9161-d8eaa3d97902"
    },
    "slideshow": {
     "slide_type": "slide"
    }
   },
   "source": [
    "## Descripción del dataset\n",
    "\n",
    "- Estudio publicado por Tom Stamey (1989, profesor Urología de la Universidad de Stanford)\n",
    "- Correlación entre nivel de antígeno prostático específico (**lpsa**) y otras mediciones\n",
    "- Variables\n",
    "    - lcavol, lweight, age, lbph, svi, lcp, gleason, pgg45\n",
    "    - Diferentes tipos y escalas\n",
    "- Dimensiones\n",
    "    - 97 ejemplos\n",
    "    - 8 predictores y 1 respuesta (lpsa)"
   ]
  },
  {
   "cell_type": "markdown",
   "metadata": {
    "nbpresent": {
     "id": "7ad30c45-5b0e-4435-8dfa-f2a0586e1bb8"
    },
    "slideshow": {
     "slide_type": "slide"
    }
   },
   "source": [
    "## Normalización\n",
    "\n",
    "- Es necesaria la normalización de los datos\n",
    "- Datos en diferentes escalas $\\rightarrow$ Distinta influencia posible\n",
    "\n",
    "```python\n",
    "from sklearn.preprocessing import StandardScaler\n",
    "scaler = StandardScaler()\n",
    "df_scaled = pd.DataFrame(scaler.fit_transform(df), columns=df.columns)\n",
    "df_scaled['lpsa'] = df['lpsa']\n",
    "```"
   ]
  },
  {
   "cell_type": "markdown",
   "metadata": {
    "nbpresent": {
     "id": "6f8f4d75-1d2c-4685-92eb-c078f05788ab"
    },
    "slideshow": {
     "slide_type": "slide"
    }
   },
   "source": [
    "## Regresión Lineal\n",
    "\n",
    "Se puede obtener la regresión lineal haciendo uso del modulo `linear_model` de sklearn. \n",
    "\n",
    "- Necesario agregar una columna `intercept` con unos\n",
    "- Representa el valor de salida cuando X = 0 para centrar los datos\n",
    "- Se comporta como una normal estándar apoyando la normalización previamente hecha"
   ]
  },
  {
   "cell_type": "markdown",
   "metadata": {
    "collapsed": false,
    "slideshow": {
     "slide_type": "slide"
    }
   },
   "source": [
    "```python\n",
    "import sklearn.linear_model as lm\n",
    "X = df_scaled.ix[:,:-1]\n",
    "N = X.shape[0]\n",
    "X.insert(X.shape[1], 'intercept', np.ones(N))\n",
    "\n",
    "y = df_scaled['lpsa']\n",
    "Xtrain = X[istrain]\n",
    "ytrain = y[istrain]\n",
    "Xtest = X[np.logical_not(istrain)]\n",
    "ytest = y[np.logical_not(istrain)]\n",
    "\n",
    "linreg = lm.LinearRegression(fit_intercept = False)\n",
    "linreg.fit(Xtrain, ytrain)\n",
    "```"
   ]
  },
  {
   "cell_type": "markdown",
   "metadata": {
    "slideshow": {
     "slide_type": "slide"
    }
   },
   "source": [
    "## Coeficientes y z-scores\n",
    "\n",
    "Los coeficientes y z-scores asociados a cada predictor pueden apreciarse en la siguiente tabla. Aquellos con valores en negrita corresponden a los coeficientes con suficiente evidencia para demostrar su relación con la respuesta con un nivel de significación de un 5%. \n",
    "\n",
    "|            | lcavol | lweight | age    | lbph  | svi   | lcp    | gleason | pgg45 | intercept |\n",
    "|------------|--------|---------|--------|-------|-------|--------|---------|-------|-----------|\n",
    "|C           | **0.676**  | **0.262**   | -0.141 | **0.209** | **0.304** | -0.287 | -0.021  | **0.266** | **2.465**     |\n",
    "|Z           | **5.366**  | **2.751**   | -1.396 | **2.056** | **2.469** | -1.867 | -0.147  | **1.738** | **27.598**|"
   ]
  },
  {
   "cell_type": "markdown",
   "metadata": {
    "slideshow": {
     "slide_type": "skip"
    }
   },
   "source": [
    "Los coeficientes se pueden obtener desde `linreg`\n",
    "\n",
    "El z-score $z_j$ de cada predictor $j$ se pudo obtener con la siguiente formula. \n",
    "\n",
    "$$ z_j = \\frac{\\hat{\\beta_j}}{\\hat{\\sigma}\\sqrt{v_j}} $$\n",
    "\n",
    "Con $X$ siendo la matriz de entrada de dimensiones $N \\times (p+1)$ , $y$ siendo el vector de salida, $\\hat{y}$ el vector de salida estimado por el modelo, $\\hat{\\beta_j}$ es el coeficiente asociado al predictor $j$ en el modelo, $\\hat{\\sigma}$ una estimación la desviación estándar del modelo estimado y $v_j$ un elemento de la matriz $({X^T}X)^{-1}$ usada para construir el modelo lineal.\n",
    "\n",
    "El valor de $\\hat{\\sigma}$ es estimado de acuerdo a:\n",
    "\n",
    "$$ \\hat{\\sigma}^2 = \\frac{1}{N-p-1}\\sum_{i=1}^{N}{(y_i - \\hat{y}_i)^2} $$\n"
   ]
  },
  {
   "cell_type": "markdown",
   "metadata": {
    "slideshow": {
     "slide_type": "slide"
    }
   },
   "source": [
    "## Validación Cruzada k-fold\n",
    "\n",
    "Validación Cruzada k-fold divide el conjunto de entrenamiento en k-folds. En cada iteración usa k-1 folds para construir el modelo y el fold restante para validarlo. \n",
    "\n",
    "Se construyo el modelo y se comparó una estimación del error del modelo usando validación cruzada con el modelo completo de regresión lineal.\n",
    "\n",
    "\n",
    "|                     | 10-Fold CV | 5-Fold CV | Linear Regression |\n",
    "|---------------------|------------|-----------|-------------------|\n",
    "| MSE promedio (val)  | 0.757      | 0.957     |                   |\n",
    "| MSE promedio (test) | 0.538      | 0.588     |                   |\n",
    "| MSE minimo (val)    | 0.136      | 0.414     |                   |\n",
    "| MSE minimo (test)   | 0.508      | 0.505     |                   |\n",
    "| MSE (train)         |            |           | 0.567             |\n",
    "| MSE (test)          |            |           | 0.66              |"
   ]
  },
  {
   "cell_type": "markdown",
   "metadata": {
    "slideshow": {
     "slide_type": "slide"
    }
   },
   "source": [
    "## Hipótesis de normalidad\n",
    "\n",
    "Al observar una Q-Q plot de los residuos se puede observar que los residuos están aproximadamente sobre la línea por lo que es razonable la hipotesis de normalidad.\n",
    "\n",
    "![alt text](qqplot.png \"Q-Q plot\")"
   ]
  },
  {
   "cell_type": "markdown",
   "metadata": {
    "slideshow": {
     "slide_type": "slide"
    }
   },
   "source": [
    "## Conclusiones\n",
    "\n",
    "- Se construyó un modelo de regresión lineal usando el modulo `linear_model` de sklearn.\n",
    "\n",
    "- Rredictores con mayor influencia sobre la respuesta fueron `lcavol`, `lweight` y `svi`.\n",
    "\n",
    "- Predictores `age`, `gleason` y `lcp` no tenían suficiente evidencia como para tener influencia sobre la respuesta.\n",
    "\n",
    "- Cross-Validation mostró que el modelo podría tener un cierto sobre-ajuste pues al usar menos datos se mejora el error respecto del conjunto de pruebas.\n",
    "\n",
    "- Usando un Q-Q plot sobre los residuos se puede concluir que la hipótesis de normalidad es razonable.\n"
   ]
  }
 ],
 "metadata": {
  "celltoolbar": "Slideshow",
  "kernelspec": {
   "display_name": "Python [Root]",
   "language": "python",
   "name": "Python [Root]"
  },
  "language_info": {
   "codemirror_mode": {
    "name": "ipython",
    "version": 2
   },
   "file_extension": ".py",
   "mimetype": "text/x-python",
   "name": "python",
   "nbconvert_exporter": "python",
   "pygments_lexer": "ipython2",
   "version": "2.7.12"
  },
  "nbpresent": {
   "slides": {
    "057b9fda-d576-40b8-8bfb-9fc315156835": {
     "id": "057b9fda-d576-40b8-8bfb-9fc315156835",
     "prev": "3785161e-cf29-4ee3-b67f-12f6d129d481",
     "regions": {
      "eeec85c7-cc8b-4c1c-9d40-468c307e4795": {
       "attrs": {
        "height": 0.8,
        "width": 0.8,
        "x": 0.1,
        "y": 0.1
       },
       "content": {
        "cell": "7ad30c45-5b0e-4435-8dfa-f2a0586e1bb8",
        "part": "whole"
       },
       "id": "eeec85c7-cc8b-4c1c-9d40-468c307e4795"
      }
     }
    },
    "3785161e-cf29-4ee3-b67f-12f6d129d481": {
     "id": "3785161e-cf29-4ee3-b67f-12f6d129d481",
     "prev": "85329dcf-d4ff-4ba2-a432-b13c8ed19580",
     "regions": {
      "baa686fc-7521-442f-94c4-2760ad59e698": {
       "attrs": {
        "height": 0.8,
        "width": 0.8,
        "x": 0.1,
        "y": 0.1
       },
       "content": {
        "cell": "52cc5833-f27b-439a-81df-818607db5578",
        "part": "whole"
       },
       "id": "baa686fc-7521-442f-94c4-2760ad59e698"
      }
     }
    },
    "6705ce00-2412-4c06-8da8-544775829fd6": {
     "id": "6705ce00-2412-4c06-8da8-544775829fd6",
     "prev": "057b9fda-d576-40b8-8bfb-9fc315156835",
     "regions": {
      "4394218e-c03b-403e-9aa9-e11a2bca2537": {
       "attrs": {
        "height": 0.4,
        "width": 0.8,
        "x": 0.1,
        "y": 0.5
       },
       "content": {
        "cell": "6f8f4d75-1d2c-4685-92eb-c078f05788ab",
        "part": "whole"
       },
       "id": "4394218e-c03b-403e-9aa9-e11a2bca2537"
      },
      "ae0209cd-7805-464a-9a99-768684d600b5": {
       "attrs": {
        "height": 0.8,
        "width": 0.8,
        "x": 0.1,
        "y": 0.1
       },
       "content": {
        "cell": "2196c583-744e-4672-93be-0d930eeb0642",
        "part": "whole"
       },
       "id": "ae0209cd-7805-464a-9a99-768684d600b5"
      }
     }
    },
    "85329dcf-d4ff-4ba2-a432-b13c8ed19580": {
     "id": "85329dcf-d4ff-4ba2-a432-b13c8ed19580",
     "prev": "b00664cf-4a0a-48f7-b866-2515cb28ea13",
     "regions": {
      "c1e6baeb-7bf5-4f65-9ed3-d9fb7d5be568": {
       "attrs": {
        "height": 0.8,
        "width": 0.8,
        "x": 0.1,
        "y": 0.1
       },
       "content": {
        "cell": "f93c5310-4e0c-46e8-9161-d8eaa3d97902",
        "part": "whole"
       },
       "id": "c1e6baeb-7bf5-4f65-9ed3-d9fb7d5be568"
      }
     }
    },
    "b00664cf-4a0a-48f7-b866-2515cb28ea13": {
     "id": "b00664cf-4a0a-48f7-b866-2515cb28ea13",
     "prev": "cd7cc886-7cb2-49d8-8317-2dd9e15745bc",
     "regions": {
      "2db51c7f-bd65-4f40-b9c1-190b36a596b9": {
       "attrs": {
        "height": 0.8,
        "width": 0.8,
        "x": 0.1,
        "y": 0.1
       },
       "content": {
        "cell": "e5ed19c6-65c7-41a1-86d5-829ec0e0391b",
        "part": "whole"
       },
       "id": "2db51c7f-bd65-4f40-b9c1-190b36a596b9"
      }
     }
    },
    "cd7cc886-7cb2-49d8-8317-2dd9e15745bc": {
     "id": "cd7cc886-7cb2-49d8-8317-2dd9e15745bc",
     "prev": "df02b4cd-a514-4c55-91d5-9fa0cd6b3107",
     "regions": {
      "3b07d45d-c030-4026-a527-736cd9c57bd3": {
       "attrs": {
        "height": 0.8,
        "width": 0.8,
        "x": 0.1,
        "y": 0.1
       },
       "content": {
        "cell": "73e83cf5-1112-4b16-82da-e4c1d5d8296d",
        "part": "whole"
       },
       "id": "3b07d45d-c030-4026-a527-736cd9c57bd3"
      }
     }
    },
    "df02b4cd-a514-4c55-91d5-9fa0cd6b3107": {
     "id": "df02b4cd-a514-4c55-91d5-9fa0cd6b3107",
     "prev": null,
     "regions": {
      "af962238-086f-48b9-a358-491e67f383f0": {
       "attrs": {
        "height": 0.8,
        "width": 0.8,
        "x": 0.1,
        "y": 0.1
       },
       "content": {
        "cell": "3b0c012d-51d7-4e31-9b9a-ce03c86e6d0b",
        "part": "whole"
       },
       "id": "af962238-086f-48b9-a358-491e67f383f0"
      }
     }
    }
   },
   "themes": {}
  }
 },
 "nbformat": 4,
 "nbformat_minor": 0
}
