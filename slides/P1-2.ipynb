{
 "cells": [
  {
   "cell_type": "markdown",
   "metadata": {
    "nbpresent": {
     "id": "b0eeb39a-477c-443b-ab52-dbb43ffa66ed"
    },
    "slideshow": {
     "slide_type": "slide"
    }
   },
   "source": [
    "# Selección de Atributos"
   ]
  },
  {
   "cell_type": "markdown",
   "metadata": {
    "nbpresent": {
     "id": "d10ee7cf-ab9e-4fb8-95ea-5a0679c02759"
    },
    "slideshow": {
     "slide_type": "slide"
    }
   },
   "source": [
    "## Forward Stepwise Selection\n",
    "\n",
    "- Técnica que permite seleccionar iterativamente las mejores características de modelo\n",
    "- Se comienza con un modelo sin características\n",
    "- En cada iteración se prueba ingresando una nueva característica al modelo y se le asigna un puntaje\n",
    "- Se ingresa aquella con mejor puntaje al modelo\n",
    "- Este proceso continua hasta que el modelo empeore o se cumpla un criterio de parada.\n",
    "\n",
    "\n",
    "- Puntaje: valor absoluto de los pesos/coeficientes asociados a cada predictor"
   ]
  },
  {
   "cell_type": "markdown",
   "metadata": {
    "slideshow": {
     "slide_type": "slide"
    }
   },
   "source": [
    "## Backward Stepwise Selection\n",
    "\n",
    "- Técnica que permite seleccionar iterativamente las mejores características de modelo\n",
    "- Se comienza con un modelo con todas las características\n",
    "- En cada iteración se prueba removiendo una característica al modelo y se le asigna un puntaje\n",
    "- Se remueve aquella que mejora más el modelo (p.e. con peor puntaje)\n",
    "- Este proceso continua hasta que el modelo empeore o se cumpla un criterio de parada.\n",
    "\n",
    "\n",
    "- Puntaje: valor absoluto de los pesos/coeficientes asociados a cada predictor"
   ]
  },
  {
   "cell_type": "markdown",
   "metadata": {
    "slideshow": {
     "slide_type": "slide"
    }
   },
   "source": [
    "## Error de Forward Stepwise Selection\n",
    "\n",
    "|            | lcavol | lweight | age    | lbph  | svi   | lcp    | gleason | pgg45 | intercept |\n",
    "|------------|--------|---------|--------|-------|-------|--------|---------|-------|-----------|\n",
    "|C| **0.676**  | **0.262**   | -0.141 | **0.209** | **0.304** | -0.287 | -0.021  | **0.266** | **2.465**     |\n",
    "|Z     | **5.366**  | **2.751**   | -1.396 | **2.056** | **2.469** | -1.867 | -0.147  | **1.738** | **27.598**|\n",
    "\n",
    "![alt text](fss-error.png \"Error de FSS\")"
   ]
  },
  {
   "cell_type": "markdown",
   "metadata": {
    "slideshow": {
     "slide_type": "slide"
    }
   },
   "source": [
    "## Error de Backward Stepwise Selection\n",
    "\n",
    "|            | lcavol | lweight | age    | lbph  | svi   | lcp    | gleason | pgg45 | intercept |\n",
    "|------------|--------|---------|--------|-------|-------|--------|---------|-------|-----------|\n",
    "|C| **0.676**  | **0.262**   | -0.141 | **0.209** | **0.304** | -0.287 | -0.021  | **0.266** | **2.465**     |\n",
    "|Z     | **5.366**  | **2.751**   | -1.396 | **2.056** | **2.469** | -1.867 | -0.147  | **1.738** | **27.598**|\n",
    "\n",
    "![alt text](bss-error.png \"Error de BSS\")"
   ]
  },
  {
   "cell_type": "markdown",
   "metadata": {
    "slideshow": {
     "slide_type": "slide"
    }
   },
   "source": [
    "## Conclusiones\n",
    "\n",
    "- Se implementó Forward Step-Wise Selection y Backward Step-Wise Selection. \n",
    "- Ambos enfoques, aunque funcionan de manera inversa, pueden tener distintos resultados\n",
    "- Se observo un cierto sobre-ajuste del modelo al incluir más variables\n",
    "- Podría ser sensato considerar la eliminación de variables de baja influencia o determinar un criterio de parada para FSS o BSS"
   ]
  }
 ],
 "metadata": {
  "celltoolbar": "Slideshow",
  "kernelspec": {
   "display_name": "Python [Root]",
   "language": "python",
   "name": "Python [Root]"
  },
  "language_info": {
   "codemirror_mode": {
    "name": "ipython",
    "version": 2
   },
   "file_extension": ".py",
   "mimetype": "text/x-python",
   "name": "python",
   "nbconvert_exporter": "python",
   "pygments_lexer": "ipython2",
   "version": "2.7.12"
  },
  "nbpresent": {
   "slides": {
    "07dd3a63-3faa-4a81-85bb-4aacdf1179cc": {
     "id": "07dd3a63-3faa-4a81-85bb-4aacdf1179cc",
     "prev": null,
     "regions": {
      "1ff47f7f-0873-4414-aebc-ae7c3a159268": {
       "attrs": {
        "height": 0.4,
        "width": 0.8,
        "x": 0.1,
        "y": 0.5
       },
       "content": {
        "cell": "d10ee7cf-ab9e-4fb8-95ea-5a0679c02759",
        "part": "whole"
       },
       "id": "1ff47f7f-0873-4414-aebc-ae7c3a159268"
      },
      "219966bb-6016-44b0-bdbc-48a4aa8f256a": {
       "attrs": {
        "height": 0.8,
        "width": 0.8,
        "x": 0.1,
        "y": 0.1
       },
       "content": {
        "cell": "b0eeb39a-477c-443b-ab52-dbb43ffa66ed",
        "part": "whole"
       },
       "id": "219966bb-6016-44b0-bdbc-48a4aa8f256a"
      }
     }
    },
    "1b7e4167-e188-4527-8132-3e90e63d7782": {
     "id": "1b7e4167-e188-4527-8132-3e90e63d7782",
     "prev": "6b69aa2c-6ac0-456b-80fd-6c30c088ec95",
     "regions": {
      "a65804a8-0dec-4b5f-bf73-b7d93ada0a7b": {
       "attrs": {
        "height": 0.4,
        "width": 0.8,
        "x": 0.1,
        "y": 0.5
       },
       "content": {
        "cell": "8557a37f-d6e1-4d61-8c7c-5509238b237e",
        "part": "whole"
       },
       "id": "a65804a8-0dec-4b5f-bf73-b7d93ada0a7b"
      },
      "d8f16730-08fe-4d39-87d2-1ab1a723889f": {
       "attrs": {
        "height": 0.8,
        "width": 0.8,
        "x": 0.1,
        "y": 0.1
       },
       "content": {
        "cell": "3b067cb9-33a5-4938-af60-535712300cd8",
        "part": "whole"
       },
       "id": "d8f16730-08fe-4d39-87d2-1ab1a723889f"
      }
     }
    },
    "6b69aa2c-6ac0-456b-80fd-6c30c088ec95": {
     "id": "6b69aa2c-6ac0-456b-80fd-6c30c088ec95",
     "prev": "07dd3a63-3faa-4a81-85bb-4aacdf1179cc",
     "regions": {
      "095e1a1b-bd95-42b4-bb5e-59d60d85d715": {
       "attrs": {
        "height": 0.4,
        "width": 0.8,
        "x": 0.1,
        "y": 0.5
       },
       "content": {
        "cell": "2ced531c-3beb-40ea-a287-feb20810ae2e",
        "part": "whole"
       },
       "id": "095e1a1b-bd95-42b4-bb5e-59d60d85d715"
      },
      "9120f36a-9950-4d80-b769-32dd05eb76dd": {
       "attrs": {
        "height": 0.8,
        "width": 0.8,
        "x": 0.1,
        "y": 0.1
       },
       "content": {
        "cell": "c4603135-18ef-4cd6-a48b-b32343792126",
        "part": "whole"
       },
       "id": "9120f36a-9950-4d80-b769-32dd05eb76dd"
      }
     }
    },
    "75c67b31-a4a8-495b-b3a5-edf5771f73bb": {
     "id": "75c67b31-a4a8-495b-b3a5-edf5771f73bb",
     "prev": "1b7e4167-e188-4527-8132-3e90e63d7782",
     "regions": {
      "0bc5d475-7d1f-4fb0-a5f6-f20f9d89eef9": {
       "attrs": {
        "height": 0.4,
        "width": 0.8,
        "x": 0.1,
        "y": 0.5
       },
       "content": {
        "cell": "f8828608-d484-438d-840b-8ac83458d462",
        "part": "whole"
       },
       "id": "0bc5d475-7d1f-4fb0-a5f6-f20f9d89eef9"
      },
      "1849c0f8-71a6-4de2-8eb3-0d7b87c52b4f": {
       "attrs": {
        "height": 0.8,
        "width": 0.8,
        "x": 0.1,
        "y": 0.1
       },
       "content": {
        "cell": "27184012-3b1a-45a6-9b1b-7aa8f06943f2",
        "part": "whole"
       },
       "id": "1849c0f8-71a6-4de2-8eb3-0d7b87c52b4f"
      }
     }
    }
   },
   "themes": {}
  }
 },
 "nbformat": 4,
 "nbformat_minor": 0
}
